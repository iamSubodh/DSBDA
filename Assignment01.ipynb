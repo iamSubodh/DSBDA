{
  "cells": [
    {
      "cell_type": "code",
      "source": [
        "import pandas as pd\n",
        "import numpy as ny\n",
        "data={\n",
        "    'Name':['Subodh','Rohit', 'Tejas', 'Aishwarya', 'Jaydeep'],\n",
        "    'Age':[22,20,20,18,19],\n",
        "    'Marks':[25,21,23,22,24]}"
      ],
      "metadata": {
        "id": "8F8xrO-PORQv"
      },
      "execution_count": 4,
      "outputs": []
    },
    {
      "cell_type": "code",
      "source": [
        "df=pd.DataFrame(data)\n",
        "col=['Name']\n",
        "print(df[col].head(3))\n",
        "print(df[col].tail(3))\n",
        "print(df['Marks'].mean())\n",
        "print(df['Age'].median())"
      ],
      "metadata": {
        "id": "mF1CyLZdThLI",
        "outputId": "071f28e6-87d7-403b-aa20-7fe3cb292664",
        "colab": {
          "base_uri": "https://localhost:8080/"
        }
      },
      "execution_count": 5,
      "outputs": [
        {
          "output_type": "stream",
          "name": "stdout",
          "text": [
            "     Name\n",
            "0  Subodh\n",
            "1   Rohit\n",
            "2   Tejas\n",
            "        Name\n",
            "2      Tejas\n",
            "3  Aishwarya\n",
            "4    Jaydeep\n",
            "23.0\n",
            "20.0\n"
          ]
        }
      ]
    }
  ],
  "metadata": {
    "colab": {
      "name": "Welcome To Colaboratory",
      "toc_visible": true,
      "provenance": []
    },
    "kernelspec": {
      "display_name": "Python 3",
      "name": "python3"
    }
  },
  "nbformat": 4,
  "nbformat_minor": 0
}